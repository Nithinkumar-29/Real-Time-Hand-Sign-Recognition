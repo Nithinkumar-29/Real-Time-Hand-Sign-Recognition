{
 "cells": [
  {
   "cell_type": "code",
   "execution_count": 1,
   "id": "e2dc0252",
   "metadata": {},
   "outputs": [],
   "source": [
    "import cv2 as cv\n",
    "import mediapipe as mp\n",
    "import numpy as np\n",
    "import matplotlib.pyplot as plt"
   ]
  },
  {
   "cell_type": "code",
   "execution_count": 2,
   "id": "7421191d",
   "metadata": {},
   "outputs": [],
   "source": [
    "mp_drawing = mp.solutions.drawing_utils\n",
    "mp_hands = mp.solutions.hands\n",
    "# mp_drawing,mp_hands"
   ]
  },
  {
   "cell_type": "code",
   "execution_count": 3,
   "id": "eca81e41",
   "metadata": {},
   "outputs": [],
   "source": [
    "c = cv.VideoCapture(0)\n",
    "hands = mp_hands.Hands(max_num_hands=10,min_detection_confidence=0.7,min_tracking_confidence=0.5)\n",
    "i=0\n",
    "while True:\n",
    "    #getting live feed\n",
    "    b,f = c.read()\n",
    "    \n",
    "    #BGR 2 RGB\n",
    "    img = cv.cvtColor(f,cv.COLOR_BGR2RGB)\n",
    "    \n",
    "    #flip horizontally\n",
    "    img = cv.flip(img,1)\n",
    "    \n",
    "    #making image not writable\n",
    "    img.flags.writeable=False\n",
    "    \n",
    "    #detect\n",
    "    result = hands.process(img)\n",
    "    \n",
    "    #make image writable\n",
    "    img.flags.writeable=True\n",
    "    \n",
    "    #RBG 2 BGR\n",
    "    img = cv.cvtColor(img,cv.COLOR_RGB2BGR)\n",
    "    \n",
    "    #draw results\n",
    "    if result.multi_hand_landmarks:\n",
    "        for hand in result.multi_hand_landmarks:\n",
    "            center_x = int(hand.landmark[mp_hands.HandLandmark.INDEX_FINGER_TIP].x*img.shape[1])\n",
    "            center_y = int(hand.landmark[mp_hands.HandLandmark.INDEX_FINGER_TIP].y*img.shape[0])\n",
    "            rect_x = int(hand.landmark[mp_hands.HandLandmark.THUMB_TIP].x*img.shape[1])\n",
    "            rect_y = int(hand.landmark[mp_hands.HandLandmark.MIDDLE_FINGER_TIP].y*img.shape[0])\n",
    "            wrist_x = int(hand.landmark[mp_hands.HandLandmark.PINKY_TIP].x*img.shape[1])\n",
    "            wrist_y = int(hand.landmark[mp_hands.HandLandmark.WRIST].y*img.shape[0])\n",
    "            center = (center_x,center_y)\n",
    "            rect = (rect_x,rect_y)\n",
    "            wrist = (wrist_x,wrist_y)\n",
    "            mp_drawing.draw_landmarks(img,hand,mp_hands.HAND_CONNECTIONS,\n",
    "            mp_drawing.DrawingSpec((0,255,255)),\n",
    "            mp_drawing.DrawingSpec((160,30,240))\n",
    "            )\n",
    "            img = cv.circle(img,center,15,(255,0,0))\n",
    "            img = cv.rectangle(img,rect,wrist,(0,255,0))\n",
    "            \n",
    "    #displaying the results\n",
    "    img = cv.resize(img,(0,0),fx=2,fy=2)\n",
    "    cv.imshow(\"tracking yo hands\",img)\n",
    "    if(cv.waitKey(5)==ord('e')):\n",
    "        break\n",
    "c.release()\n",
    "cv.destroyAllWindows()"
   ]
  }
 ],
 "metadata": {
  "kernelspec": {
   "display_name": "Python 3 (ipykernel)",
   "language": "python",
   "name": "python3"
  },
  "language_info": {
   "codemirror_mode": {
    "name": "ipython",
    "version": 3
   },
   "file_extension": ".py",
   "mimetype": "text/x-python",
   "name": "python",
   "nbconvert_exporter": "python",
   "pygments_lexer": "ipython3",
   "version": "3.9.12"
  }
 },
 "nbformat": 4,
 "nbformat_minor": 5
}
